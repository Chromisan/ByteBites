{
 "cells": [
  {
   "cell_type": "code",
   "execution_count": 2,
   "metadata": {},
   "outputs": [],
   "source": [
    "import pandas as pd\n",
    "from langchain.prompts import (\n",
    "    PromptTemplate,\n",
    "    SystemMessagePromptTemplate,\n",
    "    HumanMessagePromptTemplate,\n",
    "    ChatPromptTemplate,)\n",
    "from langchain_core.output_parsers import StrOutputParser\n",
    "from langchain_community.vectorstores import FAISS\n",
    "from langchain.schema.runnable import RunnablePassthrough\n",
    "from langchain_community.document_loaders.dataframe import DataFrameLoader\n",
    "from langchain.storage import LocalFileStore\n",
    "from langchain.embeddings import CacheBackedEmbeddings\n",
    "from langchain_openai import OpenAIEmbeddings, ChatOpenAI"
   ]
  },
  {
   "cell_type": "code",
   "execution_count": 9,
   "metadata": {},
   "outputs": [
    {
     "name": "stderr",
     "output_type": "stream",
     "text": [
      "<>:1: SyntaxWarning: invalid escape sequence '\\A'\n",
      "<>:1: SyntaxWarning: invalid escape sequence '\\A'\n",
      "C:\\Users\\Chrom\\AppData\\Local\\Temp\\ipykernel_13916\\3351047562.py:1: SyntaxWarning: invalid escape sequence '\\A'\n",
      "  DATASET_PATH = \"..\\Amap-results_NJU-Gulou-3000m.csv\"\n"
     ]
    }
   ],
   "source": [
    "DATASET_PATH = \"..\\Amap-results_NJU-Gulou-3000m.csv\""
   ]
  },
  {
   "cell_type": "code",
   "execution_count": null,
   "metadata": {},
   "outputs": [],
   "source": [
    "def get_documents(content_func=lambda row: row['name'] + '\\n' + row['tag'],  # 把数据文档中每一行的餐厅名字和tag拆解出来的待定函数\n",
    "                  source_func=lambda row: row['address'],  # 把数据文档中每一行的餐厅地址拆解出来的待定函数\n",
    "                  metadata_fields=[]):  # 元数据字段列表，默认为空\n",
    "\n",
    "    # 加载数据库，读取指定路径的 CSV 文件\n",
    "    dataset_df = pd.read_csv(DATASET_PATH)\n",
    "    \n",
    "    # 删除重复数据，确保数据唯一性\n",
    "    dataset_df.drop_duplicates(inplace=True)\n",
    "\n",
    "    # 对数据中的每一行应用 content_func 函数，在数据中新增一列 page_content，将形如 name + '\\n' + tag 的字符串作为文档内容\n",
    "    dataset_df['page_content'] = dataset_df.apply(content_func, axis=1)\n",
    "    \n",
    "    # 对数据中的每一行应用 source_func 函数，在数据中新增一列 source，将形如 address 的字符串作为文档来源\n",
    "    dataset_df['source'] = dataset_df.apply(source_func, axis=1)\n",
    "\n",
    "    # 将 'page_content' 和 'source' 添加到元数据字段列表中，确保它们被包含\n",
    "    metadata_fields = list(set(metadata_fields + ['page_content', 'source']))\n",
    "\n",
    "    # 使用 DataFrameLoader 加载数据，指定 'page_content' 列作为文档内容\n",
    "    loader = DataFrameLoader(dataset_df[metadata_fields], page_content_column='page_content')\n",
    "    \n",
    "    # 返回加载后的文档对象，所加载的内容为metadata_fields中指定的字段，其中以 'page_content' 列作为文档内容\n",
    "    return loader.load()"
   ]
  },
  {
   "cell_type": "code",
   "execution_count": 10,
   "metadata": {},
   "outputs": [],
   "source": [
    "def content_func(row) -> str:\n",
    "  content_fields = [\"name\",\n",
    "                    \"address\",\n",
    "                    \"type\",\n",
    "                    \"tag\",\n",
    "                    \"cost\",\n",
    "                    \"rating\",\n",
    "                    \"opentime_today\",\n",
    "                    \"tel\"]\n",
    "  return '\\n'.join(f\"{key}={row[key]}\" for key in content_fields if pd.notna(row[key]))\n",
    "\n",
    "metadata_fields = [\"location\", \"opentime_week\"]\n",
    "\n",
    "documents = get_documents(content_func, metadata_fields=metadata_fields)"
   ]
  },
  {
   "cell_type": "markdown",
   "metadata": {},
   "source": [
    "page_content 专注于语义检索，metadata 专注于过滤和排序。\n",
    "例如，location 字段不需要参与语义检索，但可以用于地理位置过滤。\n",
    "同时问答系统是要根据数据结构来的，有什么数据，设计什么样的模型！"
   ]
  },
  {
   "cell_type": "code",
   "execution_count": 5,
   "metadata": {},
   "outputs": [
    {
     "name": "stdout",
     "output_type": "stream",
     "text": [
      "name=巴蜀鱼花(南大店)\n",
      "address=湖南路街道汉口路30号\n",
      "type=餐饮服务;中餐厅;火锅店\n",
      "rating=4.4\n",
      "opentime_today=09:00-21:00\n",
      "tel=15380870767\n",
      "{'source': '湖南路街道汉口路30号', 'location': '118.779220,32.053685', 'opentime_week': '周一至周日 09:00-21:00'}\n"
     ]
    }
   ],
   "source": [
    "## 展示\n",
    "print(documents[0].page_content)\n",
    "print(documents[0].metadata)"
   ]
  },
  {
   "cell_type": "code",
   "execution_count": null,
   "metadata": {},
   "outputs": [],
   "source": [
    "# from dotenv import load_dotenv\n",
    "# from langchain_openai import OpenAIEmbeddings\n",
    "# import os\n",
    "\n",
    "# #加载环境变量\n",
    "# load_dotenv()\n",
    "# #配置嵌入模型\n",
    "# EMBEDDING_MODEL_NAME = \"text-embedding-3-small\"  \n",
    "# embedding_model = OpenAIEmbeddings(\n",
    "#     model=EMBEDDING_MODEL_NAME,\n",
    "#     openai_api_key=os.getenv(\"OPENAI_API_KEY\")\n",
    "# )"
   ]
  },
  {
   "cell_type": "code",
   "execution_count": 9,
   "metadata": {},
   "outputs": [],
   "source": [
    "from langchain_community.embeddings import HuggingFaceEmbeddings\n",
    "\n",
    "embedding_model = HuggingFaceEmbeddings(\n",
    "    model_name=\"sentence-transformers/all-MiniLM-L6-v2\",  # 轻量级模型\n",
    "    model_kwargs={\"device\": \"cpu\"},  # 可选 \"cuda\" 加速\n",
    "    encode_kwargs={\"normalize_embeddings\": True})"
   ]
  },
  {
   "cell_type": "code",
   "execution_count": 10,
   "metadata": {},
   "outputs": [],
   "source": [
    "result = embedding_model.embed_query(\"One sample query!\")"
   ]
  },
  {
   "cell_type": "code",
   "execution_count": 11,
   "metadata": {},
   "outputs": [
    {
     "name": "stdout",
     "output_type": "stream",
     "text": [
      "embedding shape: (384,)\n",
      "embedding norm: 1.0000000478534594\n"
     ]
    }
   ],
   "source": [
    "import numpy as np\n",
    "array = np.array(result)\n",
    "print(f\"embedding shape: {array.shape}\\nembedding norm: {np.linalg.norm(array, ord=2)}\")"
   ]
  },
  {
   "cell_type": "markdown",
   "metadata": {},
   "source": [
    "## FAISS数据库"
   ]
  },
  {
   "cell_type": "code",
   "execution_count": 12,
   "metadata": {},
   "outputs": [],
   "source": [
    "#存储向量索引\n",
    "FAISS_REVIEWS_PATH_COSINE = \"faiss_index_cosine\"\n",
    "FAISS_INDEX_NAME = \"index\"\n",
    "FAISS_DISTANCE_STRATEGY_COSINE = \"COSINE_DISTANCE\""
   ]
  },
  {
   "cell_type": "markdown",
   "metadata": {},
   "source": [
    "在代码 FAISS_REVIEWS_PATH_COSINE = \"faiss_index_cosine\" 中，\"faiss_index_cosine\" 是 FAISS 向量索引的本地存储路径，保存的是经过向量化处理后的文档索引数据。以下是详细解释：\n",
    "\n",
    "存储的具体内容\n",
    "当调用 vector_db.save_local(FAISS_REVIEWS_PATH_COSINE) 时，会在该路径下生成以下文件：\n",
    "\n",
    "index.faiss\n",
    "二进制文件，存储向量索引的核心数据（包括向量数据、索引结构等）。\n",
    "\n",
    "index.pkl（可选）\n",
    "存储元数据（如文档的原始文本、ID等，需通过 LangChain 额外配置）。\n",
    "\n",
    "这些文件共同构成一个完整的可复用的向量数据库。"
   ]
  },
  {
   "cell_type": "code",
   "execution_count": 13,
   "metadata": {},
   "outputs": [],
   "source": [
    "def get_vector_database(documents, embedding_model, distance_strategy):\n",
    "\n",
    "  vector_database = FAISS.from_documents(\n",
    "      documents, embedding_model,\n",
    "      distance_strategy= distance_strategy\n",
    "      )\n",
    "  return vector_database"
   ]
  },
  {
   "cell_type": "code",
   "execution_count": 14,
   "metadata": {},
   "outputs": [],
   "source": [
    "#分批次处理文档，主要考虑调用openai时的api限制\n",
    "import time\n",
    "doclen = len(documents)\n",
    "for batch in range(doclen//100 + 1):\n",
    "    docs = documents[batch*100:(batch+1)*100]\n",
    "    if batch ==0:\n",
    "        vector_db = get_vector_database(docs, embedding_model, FAISS_DISTANCE_STRATEGY_COSINE)\n",
    "    else:\n",
    "\n",
    "        vector_db.merge_from(get_vector_database(docs, embedding_model, FAISS_DISTANCE_STRATEGY_COSINE))\n",
    "    time.sleep(10) # Sleep for 10 seconds to avoid hitting rate limits"
   ]
  },
  {
   "cell_type": "code",
   "execution_count": 15,
   "metadata": {},
   "outputs": [],
   "source": [
    "#储存向量库\n",
    "vector_db.save_local(folder_path=FAISS_REVIEWS_PATH_COSINE, index_name=FAISS_INDEX_NAME)"
   ]
  },
  {
   "cell_type": "code",
   "execution_count": 16,
   "metadata": {},
   "outputs": [],
   "source": [
    "#加载向量库,允许反序列化\n",
    "vector_db = FAISS.load_local(folder_path=FAISS_REVIEWS_PATH_COSINE,\n",
    "                             embeddings=embedding_model,\n",
    "                             index_name=FAISS_INDEX_NAME,\n",
    "                             allow_dangerous_deserialization=True)"
   ]
  },
  {
   "cell_type": "code",
   "execution_count": 17,
   "metadata": {},
   "outputs": [
    {
     "name": "stdout",
     "output_type": "stream",
     "text": [
      "page_content='name=西安特色面馆(汉口路店)\n",
      "address=汉口路47号01幢一楼\n",
      "type=餐饮服务;中餐厅;中餐厅\n",
      "tag=肉夹馍\n",
      "cost=13.0\n",
      "rating=4.0\n",
      "opentime_today=07:20-21:30\n",
      "tel=18114808698' metadata={'source': '汉口路47号01幢一楼', 'location': '118.779220,32.053475', 'opentime_week': '每天07:20-21:30'}\n",
      "\n",
      "page_content='name=鱼你在一起(恒基中心公寓店)\n",
      "address=丹凤街29号大润发一层\n",
      "type=餐饮服务;餐饮相关场所;餐饮相关\n",
      "rating=4.2\n",
      "opentime_today=09:00-21:00\n",
      "tel=13770909712' metadata={'source': '丹凤街29号大润发一层', 'location': '118.786668,32.054497', 'opentime_week': '周一至周日 09:00-21:00'}\n",
      "\n",
      "page_content='name=沙县小吃(汉口路店)\n",
      "address=汉口路73号\n",
      "type=餐饮服务;中餐厅;特色/地方风味餐厅\n",
      "cost=13.0\n",
      "rating=4.4\n",
      "opentime_today=10:00-21:00\n",
      "tel=18752023233;19941534156' metadata={'source': '汉口路73号', 'location': '118.778214,32.053989', 'opentime_week': '周一至周日 10:00-21:00'}\n",
      "\n",
      "page_content='name=箪食记(汉口路店)\n",
      "address=汉口路75-2号\n",
      "type=餐饮服务;中餐厅;中餐厅\n",
      "cost=31.0\n",
      "rating=4.2\n",
      "tel=13951883009;15651837225' metadata={'source': '汉口路75-2号', 'location': '118.777185,32.053960', 'opentime_week': '周一至周六 09:00-20:00'}\n",
      "\n",
      "page_content='name=鱼塘鲜专业鱼馆(汉口路店)\n",
      "address=华侨路街道汉口路32号\n",
      "type=餐饮服务;中餐厅;海鲜酒楼\n",
      "cost=66.0\n",
      "rating=4.4\n",
      "opentime_today=09:00-21:30\n",
      "tel=18951000166' metadata={'source': '华侨路街道汉口路32号', 'location': '118.778987,32.053660', 'opentime_week': '周一至周日 09:00-21:30'}\n",
      "\n"
     ]
    }
   ],
   "source": [
    "docs = vector_db.similarity_search(\"给我找一下汉口路附近的混沌店\", k = 5)\n",
    "for doc in docs:\n",
    "    print(doc, end=\"\\n\\n\")"
   ]
  },
  {
   "cell_type": "code",
   "execution_count": 18,
   "metadata": {},
   "outputs": [
    {
     "name": "stdout",
     "output_type": "stream",
     "text": [
      "page_content='name=鱼你在一起(恒基中心公寓店)\n",
      "address=丹凤街29号大润发一层\n",
      "type=餐饮服务;餐饮相关场所;餐饮相关\n",
      "rating=4.2\n",
      "opentime_today=09:00-21:00\n",
      "tel=13770909712' metadata={'source': '丹凤街29号大润发一层', 'location': '118.786668,32.054497', 'opentime_week': '周一至周日 09:00-21:00'}\n",
      "\n",
      "page_content='name=福桔家庭厨房\n",
      "address=汉口路42号\n",
      "type=餐饮服务;中餐厅;中餐厅\n",
      "tag=寿喜锅,糖醋排骨\n",
      "rating=4.7\n",
      "opentime_today=11:00-13:30 17:00-20:30\n",
      "tel=19961882001' metadata={'source': '汉口路42号', 'location': '118.778479,32.053663', 'opentime_week': '周日 11:00-14:30,17:00-20:30；周六 11:00-20:30；周一至周五 11:00-13:30,17:00-20:30'}\n",
      "\n",
      "page_content='name=美鸽记·中山石岐乳鸽\n",
      "address=青岛路33-3号\n",
      "type=餐饮服务;中餐厅;中餐厅\n",
      "tag=红米肠\n",
      "rating=4.6\n",
      "opentime_today=10:00-14:00 16:00-22:00\n",
      "tel=18752079369' metadata={'source': '青岛路33-3号', 'location': '118.778138,32.052878', 'opentime_week': '周一至周日 10:00-14:00，16:00-22:00'}\n",
      "\n",
      "page_content='name=同廣鸣港式烧腊(南京大学店)\n",
      "address=汉口路47-2号\n",
      "type=餐饮服务;中餐厅;中餐厅\n",
      "tag=港式烧腊\n",
      "rating=4.4\n",
      "opentime_today=10:00-22:00\n",
      "tel=13305154735' metadata={'source': '汉口路47-2号', 'location': '118.779262,32.053522', 'opentime_week': '周一至周日 10:00-22:00'}\n",
      "\n",
      "page_content='name=阿蛮菜煎饼卷饼(汉口路小区店)\n",
      "address=汉口路47号-6号\n",
      "type=餐饮服务;餐饮相关场所;餐饮相关\n",
      "tag=菜煎饼\n",
      "rating=3.8\n",
      "opentime_today=07:30-21:00\n",
      "tel=13770721516' metadata={'source': '汉口路47号-6号', 'location': '118.779041,32.053444', 'opentime_week': '周一至周日 07:30-21:00'}\n",
      "\n"
     ]
    }
   ],
   "source": [
    "docs = vector_db.similarity_search(\"我想吃菜煎饼\", k = 5)\n",
    "for doc in docs:\n",
    "    print(doc, end=\"\\n\\n\")"
   ]
  },
  {
   "cell_type": "markdown",
   "metadata": {},
   "source": [
    "## 导入大语言模型"
   ]
  },
  {
   "cell_type": "code",
   "execution_count": null,
   "metadata": {},
   "outputs": [],
   "source": [
    "import os\n",
    "from dotenv import load_dotenv\n",
    "from langchain_openai import ChatOpenAI\n",
    "from langchain_core.prompts import ChatPromptTemplate"
   ]
  },
  {
   "cell_type": "code",
   "execution_count": 23,
   "metadata": {},
   "outputs": [],
   "source": [
    "import getpass\n",
    "import os\n",
    "from dotenv import load_dotenv\n",
    "load_dotenv()\n",
    "if not os.environ.get(\"OPENAI_API_KEY\"):\n",
    "  os.environ[\"OPENAI_API_KEY\"] = getpass.getpass(\"Enter API key for OpenAI: \")\n",
    "from langchain.chat_models import init_chat_model\n",
    "llm = init_chat_model(\"gpt-4o-mini\", model_provider=\"openai\")\n"
   ]
  },
  {
   "cell_type": "code",
   "execution_count": 24,
   "metadata": {},
   "outputs": [
    {
     "data": {
      "text/plain": [
       "AIMessage(content='Salut !', additional_kwargs={'refusal': None}, response_metadata={'token_usage': {'completion_tokens': 3, 'prompt_tokens': 20, 'total_tokens': 23, 'completion_tokens_details': {'accepted_prediction_tokens': 0, 'audio_tokens': 0, 'reasoning_tokens': 0, 'rejected_prediction_tokens': 0}, 'prompt_tokens_details': {'audio_tokens': 0, 'cached_tokens': 0}}, 'model_name': 'gpt-4o-mini-2024-07-18', 'system_fingerprint': 'fp_dbaca60df0', 'id': 'chatcmpl-BTkhUGgaGG8zve7xTlpMbHtCVAWYi', 'finish_reason': 'stop', 'logprobs': None}, id='run-6f9e678e-ac6e-4e05-ad69-d72503cfc5d2-0', usage_metadata={'input_tokens': 20, 'output_tokens': 3, 'total_tokens': 23, 'input_token_details': {'audio': 0, 'cache_read': 0}, 'output_token_details': {'audio': 0, 'reasoning': 0}})"
      ]
     },
     "execution_count": 24,
     "metadata": {},
     "output_type": "execute_result"
    }
   ],
   "source": [
    "from langchain_core.messages import HumanMessage, SystemMessage, AIMessage\n",
    "messages = [\n",
    "    SystemMessage(\"Translate the following from English into French\"),\n",
    "    HumanMessage(\"hi!\"),\n",
    "]\n",
    "llm.invoke(messages)"
   ]
  },
  {
   "cell_type": "markdown",
   "metadata": {},
   "source": [
    "## LangChain pipeline"
   ]
  },
  {
   "cell_type": "code",
   "execution_count": 25,
   "metadata": {},
   "outputs": [],
   "source": [
    "from langchain.prompts import (\n",
    "    PromptTemplate,\n",
    "    SystemMessagePromptTemplate,\n",
    "    HumanMessagePromptTemplate,\n",
    "    ChatPromptTemplate,)\n",
    "from langchain_core.output_parsers import StrOutputParser\n",
    "from langchain_community.vectorstores import FAISS\n",
    "from langchain.schema.runnable import RunnablePassthrough"
   ]
  },
  {
   "cell_type": "code",
   "execution_count": null,
   "metadata": {},
   "outputs": [],
   "source": [
    "review_template_str = \"\"\"\n",
    "你的工作是使用高德地图上的餐馆和酒吧评论来帮助人们找到吃饭或喝酒的最佳地点。\n",
    "使用以下信息和评论回答问题。如果上下文不是关于餐馆的，\n",
    "然后请告诉用户，您只能提供帮助并回答与餐厅相关的问题。\n",
    "如果你根据上下文不知道答案，就说你不知道。答案上下文\n",
    "{context}\n",
    "\"\"\"\n",
    "\n",
    "system_prompt = SystemMessagePromptTemplate(\n",
    "    prompt=PromptTemplate(\n",
    "        input_variables=[\"context\"], template=review_template_str\n",
    "    )\n",
    ")\n",
    "\n",
    "human_prompt = HumanMessagePromptTemplate(\n",
    "    prompt=PromptTemplate(input_variables=[\"question\"], template=\"{question}\")\n",
    ")\n",
    "messages = [system_prompt, human_prompt]\n",
    "\n",
    "review_prompt_template = ChatPromptTemplate(\n",
    "    input_variables=[\"context\", \"question\"], messages=messages\n",
    ")\n",
    "\n",
    "reviews_retriever = vector_db.as_retriever(search_kwargs={'k': 20,})\n",
    "\n",
    "review_chain = (\n",
    "    {\"context\": reviews_retriever, \"question\": RunnablePassthrough()}\n",
    "    | review_prompt_template\n",
    "    | llm\n",
    "    | StrOutputParser()\n",
    ")"
   ]
  },
  {
   "cell_type": "markdown",
   "metadata": {},
   "source": [
    "## 案例应用"
   ]
  },
  {
   "cell_type": "code",
   "execution_count": 28,
   "metadata": {},
   "outputs": [
    {
     "name": "stdout",
     "output_type": "stream",
     "text": [
      "在汉口路，您可以尝试以下餐馆，提供四川菜和面食：\n",
      "\n",
      "1. **四川宜宾燃面**\n",
      "   - 地址：汉口路48号\n",
      "   - 评分：4.7\n",
      "   - 营业时间：周一至周日 09:00-20:30\n",
      "   - 电话：13072527682; 17326125923\n",
      "\n",
      "2. **兰州拉面刀削面(汉口路店)**\n",
      "   - 地址：汉口路36号\n",
      "   - 评分：4.5\n",
      "   - 营业时间：周一至周日 09:00-21:00\n",
      "   - 电话：17327791285\n",
      "\n",
      "3. **西安特色面馆(汉口路店)**\n",
      "   - 地址：汉口路47号01幢一楼\n",
      "   - 评分：4.0\n",
      "   - 营业时间：每天 07:20-21:30\n",
      "   - 电话：18114808698\n",
      "\n",
      "这些地方都可以尝到美味的四川面。希望您能享用美食！\n"
     ]
    }
   ],
   "source": [
    "question = \"\"\"汉口路哪里可以吃到四川的面\"\"\"\n",
    "print(review_chain.invoke(question))"
   ]
  },
  {
   "cell_type": "code",
   "execution_count": 31,
   "metadata": {},
   "outputs": [
    {
     "name": "stdout",
     "output_type": "stream",
     "text": [
      "你可以去以下两个肯德基：\n",
      "\n",
      "1. **肯德基(珠江路地铁店)**\n",
      "   - 地址：中山路221号负一层101至106室115至119室\n",
      "   - 营业时间：周一至周日 06:00-21:00\n",
      "   - 电话：025-85601286\n",
      "   - 评分：4.3\n",
      "   - 费用：约21元\n",
      "\n",
      "2. **肯德基(学府店)**\n",
      "   - 地址：丹凤街39号金润发购物中心1层\n",
      "   - 营业时间：周一至周日 10:00-23:00\n",
      "   - 电话：025-83222982\n",
      "   - 评分：4.8\n",
      "   - 费用：约44元\n",
      "\n",
      "3. **肯德基(广州店)**\n",
      "   - 地址：广州路104号\n",
      "   - 营业时间：24小时营业\n",
      "   - 电话：025-86632902\n",
      "   - 评分：4.6\n",
      "   - 费用：约41元\n",
      "\n",
      "你可以根据自己的位置和时间选择最合适的肯德基。\n"
     ]
    }
   ],
   "source": [
    "question = \"\"\"我想吃肯德基\"\"\"\n",
    "print(review_chain.invoke(question))"
   ]
  }
 ],
 "metadata": {
  "kernelspec": {
   "display_name": "ByteBites",
   "language": "python",
   "name": "python3"
  },
  "language_info": {
   "codemirror_mode": {
    "name": "ipython",
    "version": 3
   },
   "file_extension": ".py",
   "mimetype": "text/x-python",
   "name": "python",
   "nbconvert_exporter": "python",
   "pygments_lexer": "ipython3",
   "version": "3.12.9"
  }
 },
 "nbformat": 4,
 "nbformat_minor": 2
}
